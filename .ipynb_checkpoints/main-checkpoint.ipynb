{
 "cells": [
  {
   "cell_type": "markdown",
   "id": "ed593257",
   "metadata": {},
   "source": [
    "# Primate Classifier"
   ]
  },
  {
   "cell_type": "markdown",
   "id": "d03d7718",
   "metadata": {},
   "source": [
    "## Overview\n",
    "Classify images of primates according to their species. Using deep learning users can muse artificial intillegence to classify species of primates.\n",
    "\n",
    "## Technical Analysis\n",
    "This program makes use of the TensorFlow Framework making heavy use of the Keras API to create and train a Convolutional Neural Network. The neural network uses 700x700 input nodes and then implements a 5-layer deep learning algorithm with node densities of 8, 16, 32, 64, and 128 for the corresponding layers. With this configuration the deep learning algorithm can achieve a minimum 76% accuracy thereby minimizing issues of overfitting while using the bare minimum of training and testing data. By implementing other methods such as dropout and image data augmentation the model’s accuracy is further improved to 83% and later tops out at 88%.  \n",
    "\n",
    "\n",
    "## Who this program is for\n",
    "The Primate Classifier is designed as a proof of concept demonstrating Artificial Intelligence and its use in prefessional applications. I designed this program to get my feet wet in artificial intelligence. My goal was to explore and understand how AI works and the processes used in their design. I learned how to train neural networks and the methods used to improve their  accuracy. \n",
    "\n",
    "## How it works\n",
    "Select an image from selection list. The corrosponding image is shown below. Click the \"Process Image\" button and wait for the algorithm to perdict the species. Output is provided in the right text box labled \"AI:\". And there you have it! The program is simple in function but complex in design."
   ]
  },
  {
   "cell_type": "code",
   "execution_count": 3,
   "id": "7fd342b9",
   "metadata": {},
   "outputs": [
    {
     "data": {
      "application/vnd.jupyter.widget-view+json": {
       "model_id": "2f61d4ebf7c744a293cbc58b089ae736",
       "version_major": 2,
       "version_minor": 0
      },
      "text/plain": [
       "HBox(children=(VBox(children=(Dropdown(options=(('Bald Uakari.jpg', 0), ('Howler.jpg', 1), ('Macaque.jpg', 2),…"
      ]
     },
     "metadata": {},
     "output_type": "display_data"
    }
   ],
   "source": [
    "from IPython.display import display, clear_output, HTML, Javascript, Image\n",
    "from ipywidgets import widgets\n",
    "from ProcessImage import JPEG, verifyImage, TensorModel\n",
    "from IPython.utils import io\n",
    "\n",
    "img = \"\"\n",
    "\n",
    "def openImage(name):\n",
    "    file=open(name, \"rb\")\n",
    "    image = file.read()   \n",
    "    return widgets.Image(value=image, format='jpg', width=300, height=300)\n",
    "def openImageData(name):\n",
    "    file=open(name, \"rb\")\n",
    "    image = file.read()   \n",
    "    return image\n",
    "\n",
    "predicted = None\n",
    "def on_button_clicked(b):\n",
    "    processImageAlert.value=\"<h4> Processing </h4>\"\n",
    "    img = \"Images/\" + images[imageSelection.value][0]\n",
    "#     with output:\n",
    "    if(verifyImage(img)):\n",
    "        tensor = TensorModel()\n",
    "        #eliminating extraneous output from Tensorflow\n",
    "        with io.capture_output() as captured:\n",
    "            predicted = tensor.processImage(img)\n",
    "#             predicted = \"Howler.jpg\"\n",
    "        aiOut.value=predicted\n",
    "        processImageAlert.value=\"<h4> Processing complete </h4>\"\n",
    "        \n",
    "images = [('Bald Uakari.jpg', 0), ('Howler.jpg', 1), ('Macaque.jpg', 2), ('Night Monkey.jpg', 3), ('Nilgiri Langur.jpg', 4), ('Patas Monkey.jpg', 5), ('Pigmy Marmoset.jpg', 6), ('Silver Marmoset.jpg', 7), ('Squirrel Monkey.jpg', 8), ('White Headed Capuchin.jpg', 9)]\n",
    "def loadImage(change):\n",
    "    if change['type'] == 'change' and change['name'] == 'value':\n",
    "        selectedImage.value = openImageData(\"Images/\" + images[change['new']][0])\n",
    "        processImageAlert.value=\"\"\n",
    "        imageLabel.value = images[change['new']][0]\n",
    "\n",
    "        \n",
    "#widgets\n",
    "processImageButton = widgets.Button(description=\"Process Image\")\n",
    "processImageButton.on_click(on_button_clicked)\n",
    "output = widgets.Output()\n",
    "imageSelection = widgets.Dropdown(\n",
    "    options=images)\n",
    "imageSelection.set_title = \"Test\"\n",
    "imageSelection.observe(loadImage)\n",
    "imageLabel = widgets.Text(value=\"\",\n",
    "            placeholder='Image Species',\n",
    "            description='Species:',\n",
    "            disabled=True)\n",
    "imageLabel.value=images[imageSelection.value][0]\n",
    "selectedImage = openImage(\"Images/\" + images[imageSelection.value][0])\n",
    "\n",
    "aiOut = widgets.Text(value=\"\",\n",
    "            placeholder='AI output',\n",
    "            description='AI:',\n",
    "            disabled=True)\n",
    "\n",
    "processImageAlert = widgets.HTML(value=\"\")\n",
    "\n",
    "#widget layouts\n",
    "centerlayout = widgets.Layout(display='flex', width='10%')\n",
    "rightLayout = widgets.Layout(display='block',\n",
    "                align_items='center',\n",
    "                width='50%')\n",
    "fillerLayout = widgets.Layout(display='flex', height='40%')\n",
    "\n",
    "#container widgets\n",
    "leftVBox = widgets.VBox(children = [imageSelection,selectedImage, imageLabel])\n",
    "centerVBox = widgets.VBox(layout = centerlayout)\n",
    "leftTopHBox = widgets.HBox(layout = fillerLayout)\n",
    "leftCenterHBox = widgets.HBox(children=[processImageButton, aiOut])\n",
    "rightVBox = widgets.VBox(children=[leftTopHBox, leftCenterHBox, processImageAlert], layout=rightLayout)\n",
    "\n",
    "contentBox = widgets.HBox(children=[leftVBox, centerVBox, rightVBox])\n",
    "\n",
    "#first output\n",
    "display(contentBox)\n",
    "\n",
    "\n",
    "\n",
    "\n",
    "\n",
    "\n",
    "\n"
   ]
  }
 ],
 "metadata": {
  "kernelspec": {
   "display_name": "Python 3 (ipykernel)",
   "language": "python",
   "name": "python3"
  },
  "language_info": {
   "codemirror_mode": {
    "name": "ipython",
    "version": 3
   },
   "file_extension": ".py",
   "mimetype": "text/x-python",
   "name": "python",
   "nbconvert_exporter": "python",
   "pygments_lexer": "ipython3",
   "version": "3.10.4"
  }
 },
 "nbformat": 4,
 "nbformat_minor": 5
}
